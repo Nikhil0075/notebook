{
 "cells": [
  {
   "cell_type": "code",
   "execution_count": 1,
   "id": "9691006f",
   "metadata": {},
   "outputs": [],
   "source": [
    "import pandas as pd\n",
    "import numpy as np\n",
    "from prophet import Prophet"
   ]
  },
  {
   "cell_type": "code",
   "execution_count": 2,
   "id": "738bc8fd",
   "metadata": {},
   "outputs": [],
   "source": [
    "b = pd.read_csv('biomass.csv')"
   ]
  },
  {
   "cell_type": "code",
   "execution_count": 3,
   "id": "09d718c6",
   "metadata": {},
   "outputs": [],
   "source": [
    "b = b[['Index','year','biomass']].copy()"
   ]
  },
  {
   "cell_type": "code",
   "execution_count": 4,
   "id": "f7c44586",
   "metadata": {
    "scrolled": true
   },
   "outputs": [
    {
     "data": {
      "text/html": [
       "<div>\n",
       "<style scoped>\n",
       "    .dataframe tbody tr th:only-of-type {\n",
       "        vertical-align: middle;\n",
       "    }\n",
       "\n",
       "    .dataframe tbody tr th {\n",
       "        vertical-align: top;\n",
       "    }\n",
       "\n",
       "    .dataframe thead th {\n",
       "        text-align: right;\n",
       "    }\n",
       "</style>\n",
       "<table border=\"1\" class=\"dataframe\">\n",
       "  <thead>\n",
       "    <tr style=\"text-align: right;\">\n",
       "      <th></th>\n",
       "      <th>Index</th>\n",
       "      <th>year</th>\n",
       "      <th>biomass</th>\n",
       "    </tr>\n",
       "  </thead>\n",
       "  <tbody>\n",
       "    <tr>\n",
       "      <th>0</th>\n",
       "      <td>0</td>\n",
       "      <td>2010</td>\n",
       "      <td>8.475744</td>\n",
       "    </tr>\n",
       "    <tr>\n",
       "      <th>1</th>\n",
       "      <td>0</td>\n",
       "      <td>2011</td>\n",
       "      <td>8.868568</td>\n",
       "    </tr>\n",
       "    <tr>\n",
       "      <th>2</th>\n",
       "      <td>0</td>\n",
       "      <td>2012</td>\n",
       "      <td>9.202181</td>\n",
       "    </tr>\n",
       "    <tr>\n",
       "      <th>3</th>\n",
       "      <td>0</td>\n",
       "      <td>2013</td>\n",
       "      <td>6.023070</td>\n",
       "    </tr>\n",
       "    <tr>\n",
       "      <th>4</th>\n",
       "      <td>0</td>\n",
       "      <td>2014</td>\n",
       "      <td>10.788374</td>\n",
       "    </tr>\n",
       "    <tr>\n",
       "      <th>...</th>\n",
       "      <td>...</td>\n",
       "      <td>...</td>\n",
       "      <td>...</td>\n",
       "    </tr>\n",
       "    <tr>\n",
       "      <th>19339</th>\n",
       "      <td>2417</td>\n",
       "      <td>2013</td>\n",
       "      <td>0.209801</td>\n",
       "    </tr>\n",
       "    <tr>\n",
       "      <th>19340</th>\n",
       "      <td>2417</td>\n",
       "      <td>2014</td>\n",
       "      <td>0.229067</td>\n",
       "    </tr>\n",
       "    <tr>\n",
       "      <th>19341</th>\n",
       "      <td>2417</td>\n",
       "      <td>2015</td>\n",
       "      <td>0.230417</td>\n",
       "    </tr>\n",
       "    <tr>\n",
       "      <th>19342</th>\n",
       "      <td>2417</td>\n",
       "      <td>2016</td>\n",
       "      <td>0.274289</td>\n",
       "    </tr>\n",
       "    <tr>\n",
       "      <th>19343</th>\n",
       "      <td>2417</td>\n",
       "      <td>2017</td>\n",
       "      <td>0.226953</td>\n",
       "    </tr>\n",
       "  </tbody>\n",
       "</table>\n",
       "<p>19344 rows × 3 columns</p>\n",
       "</div>"
      ],
      "text/plain": [
       "       Index  year    biomass\n",
       "0          0  2010   8.475744\n",
       "1          0  2011   8.868568\n",
       "2          0  2012   9.202181\n",
       "3          0  2013   6.023070\n",
       "4          0  2014  10.788374\n",
       "...      ...   ...        ...\n",
       "19339   2417  2013   0.209801\n",
       "19340   2417  2014   0.229067\n",
       "19341   2417  2015   0.230417\n",
       "19342   2417  2016   0.274289\n",
       "19343   2417  2017   0.226953\n",
       "\n",
       "[19344 rows x 3 columns]"
      ]
     },
     "execution_count": 4,
     "metadata": {},
     "output_type": "execute_result"
    }
   ],
   "source": [
    "b"
   ]
  },
  {
   "cell_type": "code",
   "execution_count": 5,
   "id": "b05fecfd",
   "metadata": {},
   "outputs": [],
   "source": [
    "import random\n",
    "rand = random.randint(0,2417)"
   ]
  },
  {
   "cell_type": "code",
   "execution_count": 6,
   "id": "004fec3d",
   "metadata": {},
   "outputs": [],
   "source": [
    "biomass = b[b['Index'] == rand]"
   ]
  },
  {
   "cell_type": "code",
   "execution_count": 7,
   "id": "d77b8609",
   "metadata": {},
   "outputs": [
    {
     "name": "stderr",
     "output_type": "stream",
     "text": [
      "C:\\Users\\ROG\\AppData\\Local\\Temp\\ipykernel_16404\\303923813.py:1: SettingWithCopyWarning: \n",
      "A value is trying to be set on a copy of a slice from a DataFrame\n",
      "\n",
      "See the caveats in the documentation: https://pandas.pydata.org/pandas-docs/stable/user_guide/indexing.html#returning-a-view-versus-a-copy\n",
      "  biomass.rename(columns={'year':'ds','biomass':'y'},inplace=True)\n"
     ]
    }
   ],
   "source": [
    "biomass.rename(columns={'year':'ds','biomass':'y'},inplace=True)\n",
    "\n",
    "biomass=biomass[['ds','y']].copy()"
   ]
  },
  {
   "cell_type": "code",
   "execution_count": 8,
   "id": "e129418c",
   "metadata": {},
   "outputs": [
    {
     "data": {
      "text/plain": [
       "dtype('int64')"
      ]
     },
     "execution_count": 8,
     "metadata": {},
     "output_type": "execute_result"
    }
   ],
   "source": [
    "biomass['ds'].dtype\n"
   ]
  },
  {
   "cell_type": "code",
   "execution_count": 9,
   "id": "46b63d3b",
   "metadata": {},
   "outputs": [],
   "source": [
    "biomass['d'] = '0101'"
   ]
  },
  {
   "cell_type": "code",
   "execution_count": 10,
   "id": "29033312",
   "metadata": {},
   "outputs": [],
   "source": [
    "biomass['ds']=biomass['ds'].apply(str)"
   ]
  },
  {
   "cell_type": "code",
   "execution_count": 11,
   "id": "b5ed669b",
   "metadata": {},
   "outputs": [
    {
     "name": "stdout",
     "output_type": "stream",
     "text": [
      "<class 'pandas.core.frame.DataFrame'>\n",
      "Int64Index: 8 entries, 7152 to 7159\n",
      "Data columns (total 3 columns):\n",
      " #   Column  Non-Null Count  Dtype  \n",
      "---  ------  --------------  -----  \n",
      " 0   ds      8 non-null      object \n",
      " 1   y       8 non-null      float64\n",
      " 2   d       8 non-null      object \n",
      "dtypes: float64(1), object(2)\n",
      "memory usage: 256.0+ bytes\n"
     ]
    },
    {
     "data": {
      "text/plain": [
       "(        ds           y     d\n",
       " 7152  2010   75.867416  0101\n",
       " 7153  2011   66.249313  0101\n",
       " 7154  2012   67.615044  0101\n",
       " 7155  2013   71.956177  0101\n",
       " 7156  2014   70.611122  0101\n",
       " 7157  2015   83.667809  0101\n",
       " 7158  2016   94.673584  0101\n",
       " 7159  2017  124.021858  0101,\n",
       " None)"
      ]
     },
     "execution_count": 11,
     "metadata": {},
     "output_type": "execute_result"
    }
   ],
   "source": [
    "biomass , biomass.info()"
   ]
  },
  {
   "cell_type": "code",
   "execution_count": 12,
   "id": "43ef6acd",
   "metadata": {},
   "outputs": [],
   "source": [
    "biomass['ds']=biomass['ds']+biomass['d']\n",
    "biomass = biomass[['ds','y']].copy()"
   ]
  },
  {
   "cell_type": "code",
   "execution_count": 13,
   "id": "e0eeae65",
   "metadata": {},
   "outputs": [],
   "source": [
    "biomass['ds']=biomass['ds'].apply(str)\n",
    "biomass['ds']=pd.to_datetime(biomass['ds'])"
   ]
  },
  {
   "cell_type": "code",
   "execution_count": 14,
   "id": "74f0bb54",
   "metadata": {},
   "outputs": [
    {
     "name": "stdout",
     "output_type": "stream",
     "text": [
      "<class 'pandas.core.frame.DataFrame'>\n",
      "Int64Index: 8 entries, 7152 to 7159\n",
      "Data columns (total 2 columns):\n",
      " #   Column  Non-Null Count  Dtype         \n",
      "---  ------  --------------  -----         \n",
      " 0   ds      8 non-null      datetime64[ns]\n",
      " 1   y       8 non-null      float64       \n",
      "dtypes: datetime64[ns](1), float64(1)\n",
      "memory usage: 192.0 bytes\n"
     ]
    },
    {
     "data": {
      "text/plain": [
       "(             ds           y\n",
       " 7152 2010-01-01   75.867416\n",
       " 7153 2011-01-01   66.249313\n",
       " 7154 2012-01-01   67.615044\n",
       " 7155 2013-01-01   71.956177\n",
       " 7156 2014-01-01   70.611122\n",
       " 7157 2015-01-01   83.667809\n",
       " 7158 2016-01-01   94.673584\n",
       " 7159 2017-01-01  124.021858,\n",
       " None)"
      ]
     },
     "execution_count": 14,
     "metadata": {},
     "output_type": "execute_result"
    }
   ],
   "source": [
    "biomass , biomass.info()"
   ]
  },
  {
   "cell_type": "code",
   "execution_count": 15,
   "id": "47e14a4f",
   "metadata": {},
   "outputs": [],
   "source": [
    "model = Prophet(yearly_seasonality=True,\n",
    "    weekly_seasonality=False,\n",
    "    daily_seasonality=False,n_changepoints=1,\n",
    "    changepoint_range=0.9)"
   ]
  },
  {
   "cell_type": "code",
   "execution_count": 16,
   "id": "58247690",
   "metadata": {},
   "outputs": [],
   "source": [
    "X = biomass[:6] \n",
    "y = biomass['ds'][6:] "
   ]
  },
  {
   "cell_type": "code",
   "execution_count": 17,
   "id": "d9b3d396",
   "metadata": {},
   "outputs": [
    {
     "name": "stderr",
     "output_type": "stream",
     "text": [
      "19:18:45 - cmdstanpy - INFO - Chain [1] start processing\n",
      "19:18:45 - cmdstanpy - INFO - Chain [1] done processing\n"
     ]
    },
    {
     "data": {
      "text/plain": [
       "<prophet.forecaster.Prophet at 0x1ff1e3f9f40>"
      ]
     },
     "execution_count": 17,
     "metadata": {},
     "output_type": "execute_result"
    }
   ],
   "source": [
    "model.fit(X)"
   ]
  },
  {
   "cell_type": "code",
   "execution_count": 18,
   "id": "9c532515",
   "metadata": {},
   "outputs": [],
   "source": [
    "y = pd.DataFrame(y,columns=['ds'])"
   ]
  },
  {
   "cell_type": "code",
   "execution_count": 19,
   "id": "23052d31",
   "metadata": {},
   "outputs": [],
   "source": [
    "predicted_value = model.predict(y)"
   ]
  },
  {
   "cell_type": "code",
   "execution_count": 20,
   "id": "a22c40a1",
   "metadata": {},
   "outputs": [],
   "source": [
    "from sklearn.metrics import mean_absolute_error"
   ]
  },
  {
   "cell_type": "code",
   "execution_count": 21,
   "id": "be8509bc",
   "metadata": {},
   "outputs": [
    {
     "data": {
      "text/plain": [
       "30.6989580276162"
      ]
     },
     "execution_count": 21,
     "metadata": {},
     "output_type": "execute_result"
    }
   ],
   "source": [
    "mean_absolute_error(biomass['y'][6:] , predicted_value['yhat'])"
   ]
  },
  {
   "cell_type": "code",
   "execution_count": 22,
   "id": "5019e0a9",
   "metadata": {},
   "outputs": [
    {
     "data": {
      "text/plain": [
       "0    76.760008\n",
       "1    80.537518\n",
       "Name: yhat, dtype: float64"
      ]
     },
     "execution_count": 22,
     "metadata": {},
     "output_type": "execute_result"
    }
   ],
   "source": [
    "predicted_value['yhat']"
   ]
  },
  {
   "cell_type": "code",
   "execution_count": 23,
   "id": "316d6bd8",
   "metadata": {},
   "outputs": [
    {
     "name": "stdout",
     "output_type": "stream",
     "text": [
      "the station is = 894\n"
     ]
    }
   ],
   "source": [
    "print('the station is =' ,rand)"
   ]
  },
  {
   "cell_type": "code",
   "execution_count": null,
   "id": "867bdaf0",
   "metadata": {},
   "outputs": [],
   "source": []
  }
 ],
 "metadata": {
  "kernelspec": {
   "display_name": "Python 3 (ipykernel)",
   "language": "python",
   "name": "python3"
  },
  "language_info": {
   "codemirror_mode": {
    "name": "ipython",
    "version": 3
   },
   "file_extension": ".py",
   "mimetype": "text/x-python",
   "name": "python",
   "nbconvert_exporter": "python",
   "pygments_lexer": "ipython3",
   "version": "3.9.13"
  }
 },
 "nbformat": 4,
 "nbformat_minor": 5
}
