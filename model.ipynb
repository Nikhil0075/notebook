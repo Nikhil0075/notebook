{
 "cells": [
  {
   "cell_type": "code",
   "execution_count": 1,
   "id": "9691006f",
   "metadata": {},
   "outputs": [],
   "source": [
    "import pandas as pd\n",
    "import numpy as np\n",
    "from prophet import Prophet"
   ]
  },
  {
   "cell_type": "code",
   "execution_count": 2,
   "id": "738bc8fd",
   "metadata": {},
   "outputs": [],
   "source": [
    "b = pd.read_csv('biomass.csv')"
   ]
  },
  {
   "cell_type": "code",
   "execution_count": 3,
   "id": "09d718c6",
   "metadata": {},
   "outputs": [],
   "source": [
    "b = b[['Index','year','biomass']].copy()"
   ]
  },
  {
   "cell_type": "code",
   "execution_count": 4,
   "id": "f7c44586",
   "metadata": {},
   "outputs": [
    {
     "data": {
      "text/html": [
       "<div>\n",
       "<style scoped>\n",
       "    .dataframe tbody tr th:only-of-type {\n",
       "        vertical-align: middle;\n",
       "    }\n",
       "\n",
       "    .dataframe tbody tr th {\n",
       "        vertical-align: top;\n",
       "    }\n",
       "\n",
       "    .dataframe thead th {\n",
       "        text-align: right;\n",
       "    }\n",
       "</style>\n",
       "<table border=\"1\" class=\"dataframe\">\n",
       "  <thead>\n",
       "    <tr style=\"text-align: right;\">\n",
       "      <th></th>\n",
       "      <th>Index</th>\n",
       "      <th>year</th>\n",
       "      <th>biomass</th>\n",
       "    </tr>\n",
       "  </thead>\n",
       "  <tbody>\n",
       "    <tr>\n",
       "      <th>0</th>\n",
       "      <td>0</td>\n",
       "      <td>2010</td>\n",
       "      <td>8.475744</td>\n",
       "    </tr>\n",
       "    <tr>\n",
       "      <th>1</th>\n",
       "      <td>0</td>\n",
       "      <td>2011</td>\n",
       "      <td>8.868568</td>\n",
       "    </tr>\n",
       "    <tr>\n",
       "      <th>2</th>\n",
       "      <td>0</td>\n",
       "      <td>2012</td>\n",
       "      <td>9.202181</td>\n",
       "    </tr>\n",
       "    <tr>\n",
       "      <th>3</th>\n",
       "      <td>0</td>\n",
       "      <td>2013</td>\n",
       "      <td>6.023070</td>\n",
       "    </tr>\n",
       "    <tr>\n",
       "      <th>4</th>\n",
       "      <td>0</td>\n",
       "      <td>2014</td>\n",
       "      <td>10.788374</td>\n",
       "    </tr>\n",
       "    <tr>\n",
       "      <th>...</th>\n",
       "      <td>...</td>\n",
       "      <td>...</td>\n",
       "      <td>...</td>\n",
       "    </tr>\n",
       "    <tr>\n",
       "      <th>19339</th>\n",
       "      <td>2417</td>\n",
       "      <td>2013</td>\n",
       "      <td>0.209801</td>\n",
       "    </tr>\n",
       "    <tr>\n",
       "      <th>19340</th>\n",
       "      <td>2417</td>\n",
       "      <td>2014</td>\n",
       "      <td>0.229067</td>\n",
       "    </tr>\n",
       "    <tr>\n",
       "      <th>19341</th>\n",
       "      <td>2417</td>\n",
       "      <td>2015</td>\n",
       "      <td>0.230417</td>\n",
       "    </tr>\n",
       "    <tr>\n",
       "      <th>19342</th>\n",
       "      <td>2417</td>\n",
       "      <td>2016</td>\n",
       "      <td>0.274289</td>\n",
       "    </tr>\n",
       "    <tr>\n",
       "      <th>19343</th>\n",
       "      <td>2417</td>\n",
       "      <td>2017</td>\n",
       "      <td>0.226953</td>\n",
       "    </tr>\n",
       "  </tbody>\n",
       "</table>\n",
       "<p>19344 rows × 3 columns</p>\n",
       "</div>"
      ],
      "text/plain": [
       "       Index  year    biomass\n",
       "0          0  2010   8.475744\n",
       "1          0  2011   8.868568\n",
       "2          0  2012   9.202181\n",
       "3          0  2013   6.023070\n",
       "4          0  2014  10.788374\n",
       "...      ...   ...        ...\n",
       "19339   2417  2013   0.209801\n",
       "19340   2417  2014   0.229067\n",
       "19341   2417  2015   0.230417\n",
       "19342   2417  2016   0.274289\n",
       "19343   2417  2017   0.226953\n",
       "\n",
       "[19344 rows x 3 columns]"
      ]
     },
     "execution_count": 4,
     "metadata": {},
     "output_type": "execute_result"
    }
   ],
   "source": [
    "b"
   ]
  },
  {
   "cell_type": "code",
   "execution_count": 5,
   "id": "004fec3d",
   "metadata": {},
   "outputs": [],
   "source": [
    "biomass = b[b['Index'] == 0]"
   ]
  },
  {
   "cell_type": "code",
   "execution_count": 9,
   "id": "d77b8609",
   "metadata": {},
   "outputs": [
    {
     "name": "stderr",
     "output_type": "stream",
     "text": [
      "C:\\Users\\ROG\\AppData\\Local\\Temp\\ipykernel_19552\\2792766788.py:1: SettingWithCopyWarning: \n",
      "A value is trying to be set on a copy of a slice from a DataFrame\n",
      "\n",
      "See the caveats in the documentation: https://pandas.pydata.org/pandas-docs/stable/user_guide/indexing.html#returning-a-view-versus-a-copy\n",
      "  biomass.rename(columns={'year':'ds','biomass':'y'},inplace=True)\n"
     ]
    }
   ],
   "source": [
    "biomass.rename(columns={'year':'ds','biomass':'y'},inplace=True)\n",
    "#biomass['ds']=pd.to_datetime(biomass['ds'],format=%y%m%d)\n",
    "biomass=biomass[['ds','y']].copy()"
   ]
  },
  {
   "cell_type": "code",
   "execution_count": 11,
   "id": "e129418c",
   "metadata": {},
   "outputs": [
    {
     "data": {
      "text/plain": [
       "0    2010\n",
       "1    2011\n",
       "2    2012\n",
       "3    2013\n",
       "4    2014\n",
       "5    2015\n",
       "6    2016\n",
       "7    2017\n",
       "Name: ds, dtype: int64"
      ]
     },
     "execution_count": 11,
     "metadata": {},
     "output_type": "execute_result"
    }
   ],
   "source": [
    "pd.to_datetime(biomass['ds'])\n",
    "biomass['ds']"
   ]
  },
  {
   "cell_type": "code",
   "execution_count": null,
   "id": "46b63d3b",
   "metadata": {},
   "outputs": [],
   "source": []
  }
 ],
 "metadata": {
  "kernelspec": {
   "display_name": "Python 3 (ipykernel)",
   "language": "python",
   "name": "python3"
  },
  "language_info": {
   "codemirror_mode": {
    "name": "ipython",
    "version": 3
   },
   "file_extension": ".py",
   "mimetype": "text/x-python",
   "name": "python",
   "nbconvert_exporter": "python",
   "pygments_lexer": "ipython3",
   "version": "3.9.13"
  }
 },
 "nbformat": 4,
 "nbformat_minor": 5
}
