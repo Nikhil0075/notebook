{
 "cells": [
  {
   "cell_type": "code",
   "execution_count": 1,
   "id": "9691006f",
   "metadata": {},
   "outputs": [],
   "source": [
    "import pandas as pd\n",
    "import numpy as np\n",
    "from prophet import Prophet"
   ]
  },
  {
   "cell_type": "code",
   "execution_count": 2,
   "id": "738bc8fd",
   "metadata": {},
   "outputs": [],
   "source": [
    "b = pd.read_csv('biomass.csv')"
   ]
  },
  {
   "cell_type": "code",
   "execution_count": 3,
   "id": "09d718c6",
   "metadata": {},
   "outputs": [],
   "source": [
    "b = b[['Index','year','biomass']].copy()"
   ]
  },
  {
   "cell_type": "code",
   "execution_count": 4,
   "id": "f7c44586",
   "metadata": {
    "scrolled": true
   },
   "outputs": [
    {
     "data": {
      "text/html": [
       "<div>\n",
       "<style scoped>\n",
       "    .dataframe tbody tr th:only-of-type {\n",
       "        vertical-align: middle;\n",
       "    }\n",
       "\n",
       "    .dataframe tbody tr th {\n",
       "        vertical-align: top;\n",
       "    }\n",
       "\n",
       "    .dataframe thead th {\n",
       "        text-align: right;\n",
       "    }\n",
       "</style>\n",
       "<table border=\"1\" class=\"dataframe\">\n",
       "  <thead>\n",
       "    <tr style=\"text-align: right;\">\n",
       "      <th></th>\n",
       "      <th>Index</th>\n",
       "      <th>year</th>\n",
       "      <th>biomass</th>\n",
       "    </tr>\n",
       "  </thead>\n",
       "  <tbody>\n",
       "    <tr>\n",
       "      <th>0</th>\n",
       "      <td>0</td>\n",
       "      <td>2010</td>\n",
       "      <td>8.475744</td>\n",
       "    </tr>\n",
       "    <tr>\n",
       "      <th>1</th>\n",
       "      <td>0</td>\n",
       "      <td>2011</td>\n",
       "      <td>8.868568</td>\n",
       "    </tr>\n",
       "    <tr>\n",
       "      <th>2</th>\n",
       "      <td>0</td>\n",
       "      <td>2012</td>\n",
       "      <td>9.202181</td>\n",
       "    </tr>\n",
       "    <tr>\n",
       "      <th>3</th>\n",
       "      <td>0</td>\n",
       "      <td>2013</td>\n",
       "      <td>6.023070</td>\n",
       "    </tr>\n",
       "    <tr>\n",
       "      <th>4</th>\n",
       "      <td>0</td>\n",
       "      <td>2014</td>\n",
       "      <td>10.788374</td>\n",
       "    </tr>\n",
       "    <tr>\n",
       "      <th>...</th>\n",
       "      <td>...</td>\n",
       "      <td>...</td>\n",
       "      <td>...</td>\n",
       "    </tr>\n",
       "    <tr>\n",
       "      <th>19339</th>\n",
       "      <td>2417</td>\n",
       "      <td>2013</td>\n",
       "      <td>0.209801</td>\n",
       "    </tr>\n",
       "    <tr>\n",
       "      <th>19340</th>\n",
       "      <td>2417</td>\n",
       "      <td>2014</td>\n",
       "      <td>0.229067</td>\n",
       "    </tr>\n",
       "    <tr>\n",
       "      <th>19341</th>\n",
       "      <td>2417</td>\n",
       "      <td>2015</td>\n",
       "      <td>0.230417</td>\n",
       "    </tr>\n",
       "    <tr>\n",
       "      <th>19342</th>\n",
       "      <td>2417</td>\n",
       "      <td>2016</td>\n",
       "      <td>0.274289</td>\n",
       "    </tr>\n",
       "    <tr>\n",
       "      <th>19343</th>\n",
       "      <td>2417</td>\n",
       "      <td>2017</td>\n",
       "      <td>0.226953</td>\n",
       "    </tr>\n",
       "  </tbody>\n",
       "</table>\n",
       "<p>19344 rows × 3 columns</p>\n",
       "</div>"
      ],
      "text/plain": [
       "       Index  year    biomass\n",
       "0          0  2010   8.475744\n",
       "1          0  2011   8.868568\n",
       "2          0  2012   9.202181\n",
       "3          0  2013   6.023070\n",
       "4          0  2014  10.788374\n",
       "...      ...   ...        ...\n",
       "19339   2417  2013   0.209801\n",
       "19340   2417  2014   0.229067\n",
       "19341   2417  2015   0.230417\n",
       "19342   2417  2016   0.274289\n",
       "19343   2417  2017   0.226953\n",
       "\n",
       "[19344 rows x 3 columns]"
      ]
     },
     "execution_count": 4,
     "metadata": {},
     "output_type": "execute_result"
    }
   ],
   "source": [
    "b"
   ]
  },
  {
   "cell_type": "code",
   "execution_count": 5,
   "id": "b05fecfd",
   "metadata": {},
   "outputs": [],
   "source": [
    "import random\n",
    "rand = random.randint(0,2417)"
   ]
  },
  {
   "cell_type": "code",
   "execution_count": 6,
   "id": "004fec3d",
   "metadata": {},
   "outputs": [],
   "source": [
    "biomass = b[b['Index'] == rand]"
   ]
  },
  {
   "cell_type": "code",
   "execution_count": 7,
   "id": "d77b8609",
   "metadata": {},
   "outputs": [
    {
     "name": "stderr",
     "output_type": "stream",
     "text": [
      "C:\\Users\\ROG\\AppData\\Local\\Temp\\ipykernel_3584\\303923813.py:1: SettingWithCopyWarning: \n",
      "A value is trying to be set on a copy of a slice from a DataFrame\n",
      "\n",
      "See the caveats in the documentation: https://pandas.pydata.org/pandas-docs/stable/user_guide/indexing.html#returning-a-view-versus-a-copy\n",
      "  biomass.rename(columns={'year':'ds','biomass':'y'},inplace=True)\n"
     ]
    }
   ],
   "source": [
    "biomass.rename(columns={'year':'ds','biomass':'y'},inplace=True)\n",
    "\n",
    "biomass=biomass[['ds','y']].copy()"
   ]
  },
  {
   "cell_type": "code",
   "execution_count": 8,
   "id": "e129418c",
   "metadata": {},
   "outputs": [
    {
     "data": {
      "text/plain": [
       "dtype('int64')"
      ]
     },
     "execution_count": 8,
     "metadata": {},
     "output_type": "execute_result"
    }
   ],
   "source": [
    "biomass['ds'].dtype\n"
   ]
  },
  {
   "cell_type": "code",
   "execution_count": 9,
   "id": "46b63d3b",
   "metadata": {},
   "outputs": [],
   "source": [
    "biomass['d'] = '0101'"
   ]
  },
  {
   "cell_type": "code",
   "execution_count": 10,
   "id": "29033312",
   "metadata": {},
   "outputs": [],
   "source": [
    "biomass['ds']=biomass['ds'].apply(str)"
   ]
  },
  {
   "cell_type": "code",
   "execution_count": 11,
   "id": "b5ed669b",
   "metadata": {},
   "outputs": [
    {
     "name": "stdout",
     "output_type": "stream",
     "text": [
      "<class 'pandas.core.frame.DataFrame'>\n",
      "Int64Index: 8 entries, 4544 to 4551\n",
      "Data columns (total 3 columns):\n",
      " #   Column  Non-Null Count  Dtype  \n",
      "---  ------  --------------  -----  \n",
      " 0   ds      8 non-null      object \n",
      " 1   y       8 non-null      float64\n",
      " 2   d       8 non-null      object \n",
      "dtypes: float64(1), object(2)\n",
      "memory usage: 256.0+ bytes\n"
     ]
    },
    {
     "data": {
      "text/plain": [
       "(        ds           y     d\n",
       " 4544  2010  162.090424  0101\n",
       " 4545  2011  199.676697  0101\n",
       " 4546  2012  221.403549  0101\n",
       " 4547  2013  221.403549  0101\n",
       " 4548  2014  221.403549  0101\n",
       " 4549  2015  199.676697  0101\n",
       " 4550  2016  156.568146  0101\n",
       " 4551  2017  162.090424  0101,\n",
       " None)"
      ]
     },
     "execution_count": 11,
     "metadata": {},
     "output_type": "execute_result"
    }
   ],
   "source": [
    "biomass , biomass.info()"
   ]
  },
  {
   "cell_type": "code",
   "execution_count": 12,
   "id": "43ef6acd",
   "metadata": {},
   "outputs": [],
   "source": [
    "biomass['ds']=biomass['ds']+biomass['d']\n",
    "biomass = biomass[['ds','y']].copy()"
   ]
  },
  {
   "cell_type": "code",
   "execution_count": 13,
   "id": "e0eeae65",
   "metadata": {},
   "outputs": [],
   "source": [
    "biomass['ds']=biomass['ds'].apply(str)\n",
    "biomass['ds']=pd.to_datetime(biomass['ds'])"
   ]
  },
  {
   "cell_type": "code",
   "execution_count": 14,
   "id": "74f0bb54",
   "metadata": {},
   "outputs": [
    {
     "name": "stdout",
     "output_type": "stream",
     "text": [
      "<class 'pandas.core.frame.DataFrame'>\n",
      "Int64Index: 8 entries, 4544 to 4551\n",
      "Data columns (total 2 columns):\n",
      " #   Column  Non-Null Count  Dtype         \n",
      "---  ------  --------------  -----         \n",
      " 0   ds      8 non-null      datetime64[ns]\n",
      " 1   y       8 non-null      float64       \n",
      "dtypes: datetime64[ns](1), float64(1)\n",
      "memory usage: 192.0 bytes\n"
     ]
    },
    {
     "data": {
      "text/plain": [
       "(             ds           y\n",
       " 4544 2010-01-01  162.090424\n",
       " 4545 2011-01-01  199.676697\n",
       " 4546 2012-01-01  221.403549\n",
       " 4547 2013-01-01  221.403549\n",
       " 4548 2014-01-01  221.403549\n",
       " 4549 2015-01-01  199.676697\n",
       " 4550 2016-01-01  156.568146\n",
       " 4551 2017-01-01  162.090424,\n",
       " None)"
      ]
     },
     "execution_count": 14,
     "metadata": {},
     "output_type": "execute_result"
    }
   ],
   "source": [
    "biomass , biomass.info()"
   ]
  },
  {
   "cell_type": "code",
   "execution_count": 15,
   "id": "47e14a4f",
   "metadata": {},
   "outputs": [],
   "source": [
    "model = Prophet(yearly_seasonality=True,\n",
    "    weekly_seasonality=False,\n",
    "    daily_seasonality=False,n_changepoints=1,\n",
    "    changepoint_range=0.9)"
   ]
  },
  {
   "cell_type": "code",
   "execution_count": 16,
   "id": "58247690",
   "metadata": {},
   "outputs": [],
   "source": [
    "X = biomass[:6] \n",
    "y = biomass['ds'][6:] "
   ]
  },
  {
   "cell_type": "code",
   "execution_count": 17,
   "id": "d9b3d396",
   "metadata": {},
   "outputs": [
    {
     "name": "stderr",
     "output_type": "stream",
     "text": [
      "09:09:57 - cmdstanpy - INFO - Chain [1] start processing\n",
      "09:09:58 - cmdstanpy - INFO - Chain [1] done processing\n"
     ]
    },
    {
     "data": {
      "text/plain": [
       "<prophet.forecaster.Prophet at 0x17642112a00>"
      ]
     },
     "execution_count": 17,
     "metadata": {},
     "output_type": "execute_result"
    }
   ],
   "source": [
    "model.fit(X)"
   ]
  },
  {
   "cell_type": "code",
   "execution_count": 18,
   "id": "9c532515",
   "metadata": {},
   "outputs": [],
   "source": [
    "y = pd.DataFrame(y,columns=['ds'])"
   ]
  },
  {
   "cell_type": "code",
   "execution_count": 19,
   "id": "23052d31",
   "metadata": {},
   "outputs": [],
   "source": [
    "predicted_value = model.predict(y)"
   ]
  },
  {
   "cell_type": "code",
   "execution_count": 20,
   "id": "a22c40a1",
   "metadata": {},
   "outputs": [],
   "source": [
    "from sklearn.metrics import mean_absolute_error"
   ]
  },
  {
   "cell_type": "code",
   "execution_count": 21,
   "id": "be8509bc",
   "metadata": {},
   "outputs": [
    {
     "data": {
      "text/plain": [
       "75.44908227406492"
      ]
     },
     "execution_count": 21,
     "metadata": {},
     "output_type": "execute_result"
    }
   ],
   "source": [
    "mean_absolute_error(biomass['y'][6:] , predicted_value['yhat'])"
   ]
  },
  {
   "cell_type": "code",
   "execution_count": 22,
   "id": "5019e0a9",
   "metadata": {},
   "outputs": [
    {
     "data": {
      "text/plain": [
       "0    234.274279\n",
       "1    235.282455\n",
       "Name: yhat, dtype: float64"
      ]
     },
     "execution_count": 22,
     "metadata": {},
     "output_type": "execute_result"
    }
   ],
   "source": [
    "predicted_value['yhat']"
   ]
  },
  {
   "cell_type": "code",
   "execution_count": 23,
   "id": "316d6bd8",
   "metadata": {},
   "outputs": [
    {
     "name": "stdout",
     "output_type": "stream",
     "text": [
      "the station is = 568\n"
     ]
    }
   ],
   "source": [
    "print('the station is =' ,rand)"
   ]
  },
  {
   "cell_type": "code",
   "execution_count": 25,
   "id": "867bdaf0",
   "metadata": {},
   "outputs": [
    {
     "name": "stdout",
     "output_type": "stream",
     "text": [
      "<class 'pandas.core.frame.DataFrame'>\n",
      "RangeIndex: 2 entries, 0 to 1\n",
      "Data columns (total 1 columns):\n",
      " #   Column  Non-Null Count  Dtype \n",
      "---  ------  --------------  ----- \n",
      " 0   ds      2 non-null      object\n",
      "dtypes: object(1)\n",
      "memory usage: 144.0+ bytes\n"
     ]
    },
    {
     "data": {
      "text/plain": [
       "(         ds\n",
       " 0  20180101\n",
       " 1  20190101,\n",
       " None)"
      ]
     },
     "execution_count": 25,
     "metadata": {},
     "output_type": "execute_result"
    }
   ],
   "source": [
    "future_data = pd.DataFrame({'ds': ['20180101', '20190101']})\n",
    "future_data,future_data.info()"
   ]
  },
  {
   "cell_type": "code",
   "execution_count": 27,
   "id": "8aa73502",
   "metadata": {},
   "outputs": [],
   "source": [
    "future_data['ds'] = pd.to_datetime(future_data['ds'])"
   ]
  },
  {
   "cell_type": "code",
   "execution_count": 28,
   "id": "274045d0",
   "metadata": {},
   "outputs": [
    {
     "name": "stdout",
     "output_type": "stream",
     "text": [
      "<class 'pandas.core.frame.DataFrame'>\n",
      "RangeIndex: 2 entries, 0 to 1\n",
      "Data columns (total 1 columns):\n",
      " #   Column  Non-Null Count  Dtype         \n",
      "---  ------  --------------  -----         \n",
      " 0   ds      2 non-null      datetime64[ns]\n",
      "dtypes: datetime64[ns](1)\n",
      "memory usage: 144.0 bytes\n"
     ]
    }
   ],
   "source": [
    "future_data.info()"
   ]
  },
  {
   "cell_type": "code",
   "execution_count": 29,
   "id": "d3716946",
   "metadata": {},
   "outputs": [
    {
     "data": {
      "text/html": [
       "<div>\n",
       "<style scoped>\n",
       "    .dataframe tbody tr th:only-of-type {\n",
       "        vertical-align: middle;\n",
       "    }\n",
       "\n",
       "    .dataframe tbody tr th {\n",
       "        vertical-align: top;\n",
       "    }\n",
       "\n",
       "    .dataframe thead th {\n",
       "        text-align: right;\n",
       "    }\n",
       "</style>\n",
       "<table border=\"1\" class=\"dataframe\">\n",
       "  <thead>\n",
       "    <tr style=\"text-align: right;\">\n",
       "      <th></th>\n",
       "      <th>ds</th>\n",
       "      <th>trend</th>\n",
       "      <th>yhat_lower</th>\n",
       "      <th>yhat_upper</th>\n",
       "      <th>trend_lower</th>\n",
       "      <th>trend_upper</th>\n",
       "      <th>additive_terms</th>\n",
       "      <th>additive_terms_lower</th>\n",
       "      <th>additive_terms_upper</th>\n",
       "      <th>yearly</th>\n",
       "      <th>yearly_lower</th>\n",
       "      <th>yearly_upper</th>\n",
       "      <th>multiplicative_terms</th>\n",
       "      <th>multiplicative_terms_lower</th>\n",
       "      <th>multiplicative_terms_upper</th>\n",
       "      <th>yhat</th>\n",
       "    </tr>\n",
       "  </thead>\n",
       "  <tbody>\n",
       "    <tr>\n",
       "      <th>0</th>\n",
       "      <td>2018-01-01</td>\n",
       "      <td>162.393720</td>\n",
       "      <td>221.541396</td>\n",
       "      <td>264.221102</td>\n",
       "      <td>162.39372</td>\n",
       "      <td>162.393720</td>\n",
       "      <td>80.275835</td>\n",
       "      <td>80.275835</td>\n",
       "      <td>80.275835</td>\n",
       "      <td>80.275835</td>\n",
       "      <td>80.275835</td>\n",
       "      <td>80.275835</td>\n",
       "      <td>0.0</td>\n",
       "      <td>0.0</td>\n",
       "      <td>0.0</td>\n",
       "      <td>242.669555</td>\n",
       "    </tr>\n",
       "    <tr>\n",
       "      <th>1</th>\n",
       "      <td>2019-01-01</td>\n",
       "      <td>169.682671</td>\n",
       "      <td>230.802833</td>\n",
       "      <td>272.966512</td>\n",
       "      <td>169.68267</td>\n",
       "      <td>169.682671</td>\n",
       "      <td>82.376929</td>\n",
       "      <td>82.376929</td>\n",
       "      <td>82.376929</td>\n",
       "      <td>82.376929</td>\n",
       "      <td>82.376929</td>\n",
       "      <td>82.376929</td>\n",
       "      <td>0.0</td>\n",
       "      <td>0.0</td>\n",
       "      <td>0.0</td>\n",
       "      <td>252.059599</td>\n",
       "    </tr>\n",
       "  </tbody>\n",
       "</table>\n",
       "</div>"
      ],
      "text/plain": [
       "          ds       trend  yhat_lower  yhat_upper  trend_lower  trend_upper  \\\n",
       "0 2018-01-01  162.393720  221.541396  264.221102    162.39372   162.393720   \n",
       "1 2019-01-01  169.682671  230.802833  272.966512    169.68267   169.682671   \n",
       "\n",
       "   additive_terms  additive_terms_lower  additive_terms_upper     yearly  \\\n",
       "0       80.275835             80.275835             80.275835  80.275835   \n",
       "1       82.376929             82.376929             82.376929  82.376929   \n",
       "\n",
       "   yearly_lower  yearly_upper  multiplicative_terms  \\\n",
       "0     80.275835     80.275835                   0.0   \n",
       "1     82.376929     82.376929                   0.0   \n",
       "\n",
       "   multiplicative_terms_lower  multiplicative_terms_upper        yhat  \n",
       "0                         0.0                         0.0  242.669555  \n",
       "1                         0.0                         0.0  252.059599  "
      ]
     },
     "execution_count": 29,
     "metadata": {},
     "output_type": "execute_result"
    }
   ],
   "source": [
    "model.predict(future_data)"
   ]
  },
  {
   "cell_type": "code",
   "execution_count": null,
   "id": "90602b35",
   "metadata": {},
   "outputs": [],
   "source": [
    "final data = pd.DataFrame()\n",
    "for i in range(2418):\n",
    "    "
   ]
  }
 ],
 "metadata": {
  "kernelspec": {
   "display_name": "Python 3 (ipykernel)",
   "language": "python",
   "name": "python3"
  },
  "language_info": {
   "codemirror_mode": {
    "name": "ipython",
    "version": 3
   },
   "file_extension": ".py",
   "mimetype": "text/x-python",
   "name": "python",
   "nbconvert_exporter": "python",
   "pygments_lexer": "ipython3",
   "version": "3.9.13"
  }
 },
 "nbformat": 4,
 "nbformat_minor": 5
}
